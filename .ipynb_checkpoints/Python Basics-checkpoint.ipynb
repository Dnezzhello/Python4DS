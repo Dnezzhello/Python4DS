{
 "cells": [
  {
   "cell_type": "markdown",
   "id": "d389fd07",
   "metadata": {},
   "source": [
    "# Assigning Variables in Python"
   ]
  },
  {
   "cell_type": "code",
   "execution_count": 6,
   "id": "bc2e5a03",
   "metadata": {},
   "outputs": [],
   "source": [
    "first_name = \"souphaxay\"\n",
    "last_name = \"naovalath\""
   ]
  },
  {
   "cell_type": "code",
   "execution_count": 7,
   "id": "8e50cee0",
   "metadata": {},
   "outputs": [
    {
     "name": "stdout",
     "output_type": "stream",
     "text": [
      "souphaxay naovalath\n"
     ]
    }
   ],
   "source": [
    "print(first_name, last_name)"
   ]
  },
  {
   "cell_type": "code",
   "execution_count": 8,
   "id": "9c14df3d",
   "metadata": {},
   "outputs": [
    {
     "name": "stdout",
     "output_type": "stream",
     "text": [
      "first line\n",
      "second line\n"
     ]
    }
   ],
   "source": [
    "print(\"first line\\nsecond line\")"
   ]
  },
  {
   "cell_type": "markdown",
   "id": "bec6f2fe",
   "metadata": {},
   "source": [
    "## challenge"
   ]
  },
  {
   "cell_type": "markdown",
   "id": "e3a072d4",
   "metadata": {},
   "source": [
    "#### 1. Input and display full name (002)"
   ]
  },
  {
   "cell_type": "code",
   "execution_count": null,
   "id": "70b0e47b",
   "metadata": {},
   "outputs": [],
   "source": [
    "full_name = input(\"Please enter your full name: \")"
   ]
  },
  {
   "cell_type": "code",
   "execution_count": null,
   "id": "f7555772",
   "metadata": {},
   "outputs": [],
   "source": [
    "print(\"Hello\", full_name)"
   ]
  },
  {
   "cell_type": "markdown",
   "id": "238f5a1e",
   "metadata": {},
   "source": [
    "#### 2. Enter three numbers; add together the first two numbers and then multiplly the total by the third (005)"
   ]
  },
  {
   "cell_type": "code",
   "execution_count": null,
   "id": "ad196a53",
   "metadata": {},
   "outputs": [],
   "source": [
    "x = int(input(\"Enter first value: \"))\n",
    "y = int(input(\"Enter second value: \"))\n",
    "z = int(input(\"Enter third value: \"))"
   ]
  },
  {
   "cell_type": "code",
   "execution_count": null,
   "id": "609a3bc4",
   "metadata": {},
   "outputs": [],
   "source": [
    "print(\"The answer is \", x*y/z)"
   ]
  },
  {
   "cell_type": "markdown",
   "id": "166e580f",
   "metadata": {},
   "source": [
    "# if statements"
   ]
  },
  {
   "cell_type": "markdown",
   "id": "b74b2925",
   "metadata": {},
   "source": [
    "Three keywords: <b>if</b>, <b>elif</b> and <b>else</b>.<br><br>\n",
    "#### Useful operators: "
   ]
  },
  {
   "cell_type": "markdown",
   "id": "1932f469",
   "metadata": {},
   "source": [
    "<img src=\"images/comp&logic operator.jpg\"/>"
   ]
  },
  {
   "cell_type": "markdown",
   "id": "e1a9e80e",
   "metadata": {},
   "source": [
    "#### examples: "
   ]
  },
  {
   "cell_type": "code",
   "execution_count": null,
   "id": "a8588411",
   "metadata": {},
   "outputs": [],
   "source": [
    "num = 5\n",
    "\n",
    "if num > 5:\n",
    "    print(\"greater than 5!!\")\n",
    "elif num == 5:\n",
    "    print(\"equal to 5\")\n",
    "else:\n",
    "    print(\"less than 5\")"
   ]
  },
  {
   "cell_type": "markdown",
   "id": "1572e1c3",
   "metadata": {},
   "source": [
    "<h2 style=\"font-family:Trebuchet MS;letter-spacing: 2px;color:#c71606;font-weight:bold\">Challenge</h2>"
   ]
  },
  {
   "cell_type": "markdown",
   "id": "00adde46",
   "metadata": {},
   "source": [
    "#### (019) 1. Ask the user to enter 1, 2 or 3. <br><br>  If they enter a 1, display the message \"Thank you\"<br>If they enter a 2, display \"well done\"<br>If they enter a 3, display \"Correct\"<br>If they enter anything else, display \"Error message\""
   ]
  },
  {
   "cell_type": "code",
   "execution_count": null,
   "id": "d5e6bea6",
   "metadata": {},
   "outputs": [],
   "source": [
    "n = int(input(\"Enter a number (1, 2 or 3): \"))"
   ]
  },
  {
   "cell_type": "code",
   "execution_count": null,
   "id": "017659cd",
   "metadata": {},
   "outputs": [],
   "source": [
    "if n < 1 or n > 3:\n",
    "    print(\"Error!!\")\n",
    "elif n == 1:\n",
    "    print(\"Thank you\")\n",
    "elif n == 2:\n",
    "    print(\"Well done\")\n",
    "else:\n",
    "    print(\"Correct\")"
   ]
  },
  {
   "cell_type": "markdown",
   "id": "6b2ea095",
   "metadata": {},
   "source": [
    "# Strings"
   ]
  },
  {
   "cell_type": "markdown",
   "id": "4c12d0e3",
   "metadata": {},
   "source": [
    "#### Strings and Numbers as variables"
   ]
  },
  {
   "cell_type": "code",
   "execution_count": null,
   "id": "db69924f",
   "metadata": {},
   "outputs": [],
   "source": [
    "number = 5\n",
    "text = \"your age is \"''"
   ]
  },
  {
   "cell_type": "markdown",
   "id": "d15bb5a4",
   "metadata": {},
   "source": [
    "#### When concatenating string type with int type, a problem arises"
   ]
  },
  {
   "cell_type": "code",
   "execution_count": null,
   "id": "3a3d35f3",
   "metadata": {},
   "outputs": [],
   "source": [
    "final_text = text + number\n",
    "print(final_text)"
   ]
  },
  {
   "cell_type": "markdown",
   "id": "e2356058",
   "metadata": {},
   "source": [
    "#### This is how to fix this problem"
   ]
  },
  {
   "cell_type": "code",
   "execution_count": null,
   "id": "74a87255",
   "metadata": {},
   "outputs": [],
   "source": [
    "number = str(number)\n",
    "final_text = text + number\n",
    "print(final_text)"
   ]
  },
  {
   "cell_type": "markdown",
   "id": "06068f0f",
   "metadata": {},
   "source": [
    "#### Multiple-line Strings"
   ]
  },
  {
   "cell_type": "code",
   "execution_count": null,
   "id": "1c7aaaa9",
   "metadata": {},
   "outputs": [],
   "source": [
    "address = \"\"\"Tanmixay Village\n",
    "Xaythany District\n",
    "Vientiane Capital\n",
    "\"\"\""
   ]
  },
  {
   "cell_type": "code",
   "execution_count": null,
   "id": "34844e16",
   "metadata": {},
   "outputs": [],
   "source": [
    "print(address)"
   ]
  },
  {
   "cell_type": "markdown",
   "id": "3b946f2f",
   "metadata": {},
   "source": [
    "#### More on Strings in Python"
   ]
  },
  {
   "cell_type": "markdown",
   "id": "ba8fb9f4",
   "metadata": {},
   "source": [
    "<img src=\"images/strings.jpg\" />"
   ]
  },
  {
   "cell_type": "markdown",
   "id": "f4d7443f",
   "metadata": {},
   "source": [
    "<h2 style=\"font-family:Trebuchet MS;letter-spacing: 2px;color:#c71606;font-weight:bold\">Challenge</h2>"
   ]
  },
  {
   "cell_type": "markdown",
   "id": "6726c96a",
   "metadata": {},
   "source": [
    "#### (025) 1. Ask the user to enter their first name. If the length of their first name is under five characters, ask  them to enter their surname and join them  together (without a space) and display the name  in upper case. If the length of the first name is five or more characters, display their first name in lower case"
   ]
  },
  {
   "cell_type": "code",
   "execution_count": null,
   "id": "34c6d464",
   "metadata": {},
   "outputs": [],
   "source": [
    "first_name = input(\"Enter your first name: \")"
   ]
  },
  {
   "cell_type": "code",
   "execution_count": null,
   "id": "f2a9807e",
   "metadata": {},
   "outputs": [],
   "source": [
    "if len(first_name) < 5:\n",
    "    surname = input(\"Enter your surname: \")\n",
    "    full_name = first_name + surname\n",
    "    print(full_name.upper())\n",
    "else:\n",
    "    print(first_name.lower())"
   ]
  },
  {
   "cell_type": "markdown",
   "id": "9fd3818e",
   "metadata": {},
   "source": [
    "# Maths"
   ]
  },
  {
   "cell_type": "markdown",
   "id": "badf50e6",
   "metadata": {},
   "source": [
    "<img src=\"images/maths.jpg\" />"
   ]
  },
  {
   "cell_type": "markdown",
   "id": "6e35362f",
   "metadata": {},
   "source": [
    "<h2 style=\"font-family:Trebuchet MS;letter-spacing: 2px;color:#c71606;font-weight:bold\">Challenge</h2>"
   ]
  },
  {
   "cell_type": "code",
   "execution_count": null,
   "id": "899c5db1",
   "metadata": {},
   "outputs": [],
   "source": [
    "import math"
   ]
  },
  {
   "cell_type": "markdown",
   "id": "cfdbeb1a",
   "metadata": {},
   "source": [
    "#### (030) 1. Display pi (π) to five decimal places. "
   ]
  },
  {
   "cell_type": "code",
   "execution_count": null,
   "id": "ba52e013",
   "metadata": {},
   "outputs": [],
   "source": [
    "print(round(math.pi, 5))"
   ]
  },
  {
   "cell_type": "markdown",
   "id": "71d7eea3",
   "metadata": {},
   "source": [
    "#### Display the following message: <br><br>1/ square <br>2/ triangle <br><br>If the user enters 1, then it should ask them for the length of one of its sides and display the area. <br>If they select 2, it should ask for the base and height of the triangle and display the area. If they type in anything else, it should give them a suitable error message. "
   ]
  },
  {
   "cell_type": "code",
   "execution_count": null,
   "id": "d063d1b9",
   "metadata": {},
   "outputs": [],
   "source": [
    "inital_message = \"\"\"1/ square \n",
    "2/ triangle\"\"\""
   ]
  },
  {
   "cell_type": "code",
   "execution_count": null,
   "id": "286ffe43",
   "metadata": {},
   "outputs": [],
   "source": [
    "print(inital_message)\n",
    "\n",
    "choice = input(\"Enter a number (1 or 2): \")\n",
    "\n",
    "if (choice != \"1\" and choice !=  \"2\"):\n",
    "    print(\"Error!!\")\n",
    "else:\n",
    "    if (choice == \"1\"):\n",
    "        length = float(input(\"Enter a side length: \"))\n",
    "        print(\"The area of the square is \", length*length)\n",
    "    else:\n",
    "        base = float(input(\"Enter a base: \"))\n",
    "        height = float(input(\"Enter a height: \"))\n",
    "        area = base*height/2\n",
    "        print(\"The are of the triangle is \", area)\n",
    "        \n",
    "        \n",
    "    "
   ]
  },
  {
   "cell_type": "markdown",
   "id": "4f90146b",
   "metadata": {},
   "source": [
    "## For Loop"
   ]
  },
  {
   "cell_type": "markdown",
   "id": "32354eda",
   "metadata": {},
   "source": [
    "<img src=\"images/for_loops.jpg\" />"
   ]
  },
  {
   "cell_type": "markdown",
   "id": "faa89b45",
   "metadata": {},
   "source": [
    "<h2 style=\"font-family:Trebuchet MS;letter-spacing: 2px;color:#c71606;font-weight:bold\">Challenge</h2>"
   ]
  },
  {
   "cell_type": "markdown",
   "id": "973cd325",
   "metadata": {},
   "source": [
    "#### (042) 1. Set a variable called total to 0. Ask the user to enter five numbers and after each input ask them if they want that number included. If they do, then add the number to the total. If they do not want it included, don’t add it to the total. After they have entered all fivenumbers, display the total."
   ]
  },
  {
   "cell_type": "code",
   "execution_count": null,
   "id": "497a528f",
   "metadata": {},
   "outputs": [],
   "source": [
    "total = 0\n",
    "for i in range(5):\n",
    "    n = float(input(\"Enter a number: \"))\n",
    "    choice = input(\"Do you want to add this number to the sum (y or n) \")\n",
    "    if (choice == 'y'):\n",
    "        total += n\n",
    "print(\"The total is \", total)"
   ]
  },
  {
   "cell_type": "markdown",
   "id": "9935773e",
   "metadata": {},
   "source": [
    "## While Loop"
   ]
  },
  {
   "cell_type": "markdown",
   "id": "9f41455a",
   "metadata": {},
   "source": [
    "<img src=\"images/while_loop.jpg\" />"
   ]
  },
  {
   "cell_type": "markdown",
   "id": "2fb081cb",
   "metadata": {},
   "source": [
    "<h2 style=\"font-family:Trebuchet MS;letter-spacing: 2px;color:#c71606;font-weight:bold\">Challenge</h2>"
   ]
  },
  {
   "cell_type": "markdown",
   "id": "a1d5f7d3",
   "metadata": {},
   "source": [
    "#### (048) Ask for the name of somebody the user wants to invite to a party. After this, display the message “[name] has now been invited” and add 1 to the count. Then ask if they want to invite somebody else. Keep repeating this until they no longer want to invite anyone else to the party and then display how many people they have coming to the party. "
   ]
  },
  {
   "cell_type": "code",
   "execution_count": null,
   "id": "adedaefb",
   "metadata": {},
   "outputs": [],
   "source": [
    "count = 0\n",
    "add = True\n",
    "choice = ''\n",
    "while add:\n",
    "    name = input(\"Type a person's name you want to invite: \")\n",
    "    print(f\"{name} has now been invited\")\n",
    "    count += 1\n",
    "    print(\"Do you want to continue inviting more people?\")\n",
    "    choice = input(\"y or n: \")\n",
    "    if choice != 'y':\n",
    "        break\n",
    "print(\"You have invited\", count, \"people.\")\n",
    "    "
   ]
  },
  {
   "cell_type": "code",
   "execution_count": null,
   "id": "4086e7de",
   "metadata": {},
   "outputs": [],
   "source": []
  },
  {
   "cell_type": "code",
   "execution_count": null,
   "id": "fbd996b0",
   "metadata": {},
   "outputs": [],
   "source": []
  },
  {
   "cell_type": "code",
   "execution_count": null,
   "id": "c8cb16b1",
   "metadata": {},
   "outputs": [],
   "source": []
  },
  {
   "cell_type": "code",
   "execution_count": null,
   "id": "b588e914",
   "metadata": {},
   "outputs": [],
   "source": []
  },
  {
   "cell_type": "code",
   "execution_count": null,
   "id": "a13c0015",
   "metadata": {},
   "outputs": [],
   "source": []
  },
  {
   "cell_type": "code",
   "execution_count": null,
   "id": "b78edcfe",
   "metadata": {},
   "outputs": [],
   "source": []
  },
  {
   "cell_type": "code",
   "execution_count": null,
   "id": "c7f1474b",
   "metadata": {},
   "outputs": [],
   "source": []
  },
  {
   "cell_type": "code",
   "execution_count": null,
   "id": "57b03955",
   "metadata": {},
   "outputs": [],
   "source": []
  }
 ],
 "metadata": {
  "kernelspec": {
   "display_name": "Python 3 (ipykernel)",
   "language": "python",
   "name": "python3"
  },
  "language_info": {
   "codemirror_mode": {
    "name": "ipython",
    "version": 3
   },
   "file_extension": ".py",
   "mimetype": "text/x-python",
   "name": "python",
   "nbconvert_exporter": "python",
   "pygments_lexer": "ipython3",
   "version": "3.10.5"
  }
 },
 "nbformat": 4,
 "nbformat_minor": 5
}
