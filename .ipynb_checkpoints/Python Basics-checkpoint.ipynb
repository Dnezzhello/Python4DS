{
 "cells": [
  {
   "cell_type": "markdown",
   "id": "e94a7945",
   "metadata": {},
   "source": [
    "# Assigning Variables in Python"
   ]
  },
  {
   "cell_type": "code",
   "execution_count": 3,
   "id": "d4b42474",
   "metadata": {},
   "outputs": [],
   "source": [
    "first_name = \"souphaxay\"\n",
    "last_name = \"naovalath\""
   ]
  },
  {
   "cell_type": "code",
   "execution_count": 4,
   "id": "a6f55d65",
   "metadata": {},
   "outputs": [
    {
     "name": "stdout",
     "output_type": "stream",
     "text": [
      "souphaxay naovalath\n"
     ]
    }
   ],
   "source": [
    "print(first_name, last_name)"
   ]
  },
  {
   "cell_type": "code",
   "execution_count": 7,
   "id": "c2e215db",
   "metadata": {},
   "outputs": [
    {
     "name": "stdout",
     "output_type": "stream",
     "text": [
      "first line\n",
      "second line\n"
     ]
    }
   ],
   "source": [
    "print(\"first line\\nsecond line\")"
   ]
  },
  {
   "cell_type": "markdown",
   "id": "3697457c",
   "metadata": {},
   "source": [
    "## challenge"
   ]
  },
  {
   "cell_type": "markdown",
   "id": "eb5cfd52",
   "metadata": {},
   "source": [
    "#### 1. Input and display full name (002)"
   ]
  },
  {
   "cell_type": "code",
   "execution_count": 8,
   "id": "6881c9d3",
   "metadata": {},
   "outputs": [
    {
     "name": "stdout",
     "output_type": "stream",
     "text": [
      "Please enter your full name: souphaxay naovalath\n"
     ]
    }
   ],
   "source": [
    "full_name = input(\"Please enter your full name: \")"
   ]
  },
  {
   "cell_type": "code",
   "execution_count": 9,
   "id": "0d9ea4b1",
   "metadata": {},
   "outputs": [
    {
     "name": "stdout",
     "output_type": "stream",
     "text": [
      "Hello souphaxay naovalath\n"
     ]
    }
   ],
   "source": [
    "print(\"Hello\", full_name)"
   ]
  },
  {
   "cell_type": "markdown",
   "id": "328c3f22",
   "metadata": {},
   "source": [
    "#### 2. Enter three numbers; add together the first two numbers and then multiplly the total by the third (005)"
   ]
  },
  {
   "cell_type": "code",
   "execution_count": 11,
   "id": "f6322a88",
   "metadata": {},
   "outputs": [
    {
     "name": "stdout",
     "output_type": "stream",
     "text": [
      "Enter first value: 15\n",
      "Enter second value: 25\n",
      "Enter third value: 5\n"
     ]
    }
   ],
   "source": [
    "x = int(input(\"Enter first value: \"))\n",
    "y = int(input(\"Enter second value: \"))\n",
    "z = int(input(\"Enter third value: \"))"
   ]
  },
  {
   "cell_type": "code",
   "execution_count": 12,
   "id": "b3887903",
   "metadata": {},
   "outputs": [
    {
     "name": "stdout",
     "output_type": "stream",
     "text": [
      "The answer is  75.0\n"
     ]
    }
   ],
   "source": [
    "print(\"The answer is \", x*y/z)"
   ]
  },
  {
   "cell_type": "markdown",
   "id": "1433a562",
   "metadata": {},
   "source": [
    "# if statements"
   ]
  },
  {
   "cell_type": "markdown",
   "id": "89ea54cb",
   "metadata": {},
   "source": [
    "Three keywords: <b>if</b>, <b>elif</b> and <b>else</b>."
   ]
  },
  {
   "cell_type": "code",
   "execution_count": 17,
   "id": "9544d104",
   "metadata": {},
   "outputs": [
    {
     "ename": "SyntaxError",
     "evalue": "invalid syntax (2434455121.py, line 1)",
     "output_type": "error",
     "traceback": [
      "\u001b[1;36m  Input \u001b[1;32mIn [17]\u001b[1;36m\u001b[0m\n\u001b[1;33m    <img src=\"images/comp&logic operator.jpg\"/>\u001b[0m\n\u001b[1;37m    ^\u001b[0m\n\u001b[1;31mSyntaxError\u001b[0m\u001b[1;31m:\u001b[0m invalid syntax\n"
     ]
    }
   ],
   "source": [
    "<img src=\"images/comp&logic operator.jpg\"/>"
   ]
  },
  {
   "cell_type": "code",
   "execution_count": null,
   "id": "662c881a",
   "metadata": {},
   "outputs": [],
   "source": []
  },
  {
   "cell_type": "code",
   "execution_count": null,
   "id": "a0f116fb",
   "metadata": {},
   "outputs": [],
   "source": []
  },
  {
   "cell_type": "code",
   "execution_count": null,
   "id": "5d10bda3",
   "metadata": {},
   "outputs": [],
   "source": []
  },
  {
   "cell_type": "code",
   "execution_count": null,
   "id": "91e24542",
   "metadata": {},
   "outputs": [],
   "source": []
  },
  {
   "cell_type": "code",
   "execution_count": null,
   "id": "3504576f",
   "metadata": {},
   "outputs": [],
   "source": []
  },
  {
   "cell_type": "code",
   "execution_count": null,
   "id": "6357cc96",
   "metadata": {},
   "outputs": [],
   "source": []
  },
  {
   "cell_type": "code",
   "execution_count": null,
   "id": "bc917d56",
   "metadata": {},
   "outputs": [],
   "source": []
  },
  {
   "cell_type": "code",
   "execution_count": null,
   "id": "b013d161",
   "metadata": {},
   "outputs": [],
   "source": []
  }
 ],
 "metadata": {
  "kernelspec": {
   "display_name": "Python 3 (ipykernel)",
   "language": "python",
   "name": "python3"
  },
  "language_info": {
   "codemirror_mode": {
    "name": "ipython",
    "version": 3
   },
   "file_extension": ".py",
   "mimetype": "text/x-python",
   "name": "python",
   "nbconvert_exporter": "python",
   "pygments_lexer": "ipython3",
   "version": "3.10.5"
  }
 },
 "nbformat": 4,
 "nbformat_minor": 5
}
