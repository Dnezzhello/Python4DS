{
 "cells": [
  {
   "cell_type": "markdown",
   "id": "d389fd07",
   "metadata": {},
   "source": [
    "<h1  style=\"color:#292828;font-family:Trebuchet MS;font-size:4rem\">Assigning Variables in Python</h1>"
   ]
  },
  {
   "cell_type": "code",
   "execution_count": 6,
   "id": "bc2e5a03",
   "metadata": {},
   "outputs": [],
   "source": [
    "first_name = \"souphaxay\"\n",
    "last_name = \"naovalath\""
   ]
  },
  {
   "cell_type": "code",
   "execution_count": 7,
   "id": "8e50cee0",
   "metadata": {},
   "outputs": [
    {
     "name": "stdout",
     "output_type": "stream",
     "text": [
      "souphaxay naovalath\n"
     ]
    }
   ],
   "source": [
    "print(first_name, last_name)"
   ]
  },
  {
   "cell_type": "code",
   "execution_count": 8,
   "id": "9c14df3d",
   "metadata": {},
   "outputs": [
    {
     "name": "stdout",
     "output_type": "stream",
     "text": [
      "first line\n",
      "second line\n"
     ]
    }
   ],
   "source": [
    "print(\"first line\\nsecond line\")"
   ]
  },
  {
   "cell_type": "markdown",
   "id": "bec6f2fe",
   "metadata": {},
   "source": [
    "<h2 style=\"font-family:Trebuchet MS;letter-spacing: 1px;color:#c71606;font-weight:bold\">Challenge</h2>"
   ]
  },
  {
   "cell_type": "markdown",
   "id": "e3a072d4",
   "metadata": {},
   "source": [
    "#### 1. Input and display full name (002)"
   ]
  },
  {
   "cell_type": "code",
   "execution_count": 9,
   "id": "70b0e47b",
   "metadata": {},
   "outputs": [
    {
     "name": "stdout",
     "output_type": "stream",
     "text": [
      "Please enter your full name: Souphaxay Naovalath\n"
     ]
    }
   ],
   "source": [
    "full_name = input(\"Please enter your full name: \")"
   ]
  },
  {
   "cell_type": "code",
   "execution_count": 10,
   "id": "f7555772",
   "metadata": {},
   "outputs": [
    {
     "name": "stdout",
     "output_type": "stream",
     "text": [
      "Hello Souphaxay Naovalath\n"
     ]
    }
   ],
   "source": [
    "print(\"Hello\", full_name)"
   ]
  },
  {
   "cell_type": "markdown",
   "id": "238f5a1e",
   "metadata": {},
   "source": [
    "#### 2. Enter three numbers; add together the first two numbers and then multiplly the total by the third (005)"
   ]
  },
  {
   "cell_type": "code",
   "execution_count": 11,
   "id": "ad196a53",
   "metadata": {},
   "outputs": [
    {
     "name": "stdout",
     "output_type": "stream",
     "text": [
      "Enter first value: 3\n",
      "Enter second value: 7\n",
      "Enter third value: 8\n"
     ]
    }
   ],
   "source": [
    "x = int(input(\"Enter first value: \"))\n",
    "y = int(input(\"Enter second value: \"))\n",
    "z = int(input(\"Enter third value: \"))"
   ]
  },
  {
   "cell_type": "code",
   "execution_count": 12,
   "id": "609a3bc4",
   "metadata": {},
   "outputs": [
    {
     "name": "stdout",
     "output_type": "stream",
     "text": [
      "The answer is  2.625\n"
     ]
    }
   ],
   "source": [
    "print(\"The answer is \", x*y/z)"
   ]
  },
  {
   "cell_type": "markdown",
   "id": "166e580f",
   "metadata": {},
   "source": [
    "<h1  style=\"color:#292828;font-family:Trebuchet MS;font-size:4rem\">if statements</h1>"
   ]
  },
  {
   "cell_type": "markdown",
   "id": "b74b2925",
   "metadata": {},
   "source": [
    "Three keywords: <b>if</b>, <b>elif</b> and <b>else</b>.<br><br>\n",
    "#### Useful operators: "
   ]
  },
  {
   "cell_type": "markdown",
   "id": "1932f469",
   "metadata": {},
   "source": [
    "<img src=\"images/comp&logic operator.jpg\"/>"
   ]
  },
  {
   "cell_type": "markdown",
   "id": "e1a9e80e",
   "metadata": {},
   "source": [
    "#### examples: "
   ]
  },
  {
   "cell_type": "code",
   "execution_count": 13,
   "id": "a8588411",
   "metadata": {},
   "outputs": [
    {
     "name": "stdout",
     "output_type": "stream",
     "text": [
      "equal to 5\n"
     ]
    }
   ],
   "source": [
    "num = 5\n",
    "\n",
    "if num > 5:\n",
    "    print(\"greater than 5!!\")\n",
    "elif num == 5:\n",
    "    print(\"equal to 5\")\n",
    "else:\n",
    "    print(\"less than 5\")"
   ]
  },
  {
   "cell_type": "markdown",
   "id": "1572e1c3",
   "metadata": {},
   "source": [
    "<h2 style=\"font-family:Trebuchet MS;letter-spacing: 1px;color:#c71606;font-weight:bold\">Challenge</h2>"
   ]
  },
  {
   "cell_type": "markdown",
   "id": "00adde46",
   "metadata": {},
   "source": [
    "#### (019) 1. Ask the user to enter 1, 2 or 3. <br><br>  If they enter a 1, display the message \"Thank you\"<br>If they enter a 2, display \"well done\"<br>If they enter a 3, display \"Correct\"<br>If they enter anything else, display \"Error message\""
   ]
  },
  {
   "cell_type": "code",
   "execution_count": 14,
   "id": "d5e6bea6",
   "metadata": {},
   "outputs": [
    {
     "name": "stdout",
     "output_type": "stream",
     "text": [
      "Enter a number (1, 2 or 3): 1\n"
     ]
    }
   ],
   "source": [
    "n = int(input(\"Enter a number (1, 2 or 3): \"))"
   ]
  },
  {
   "cell_type": "code",
   "execution_count": 15,
   "id": "017659cd",
   "metadata": {},
   "outputs": [
    {
     "name": "stdout",
     "output_type": "stream",
     "text": [
      "Thank you\n"
     ]
    }
   ],
   "source": [
    "if n < 1 or n > 3:\n",
    "    print(\"Error!!\")\n",
    "elif n == 1:\n",
    "    print(\"Thank you\")\n",
    "elif n == 2:\n",
    "    print(\"Well done\")\n",
    "else:\n",
    "    print(\"Correct\")"
   ]
  },
  {
   "cell_type": "markdown",
   "id": "6b2ea095",
   "metadata": {},
   "source": [
    "<h1  style=\"color:#292828;font-family:Trebuchet MS;font-size:4rem\">Strings</h1>"
   ]
  },
  {
   "cell_type": "markdown",
   "id": "4c12d0e3",
   "metadata": {},
   "source": [
    "#### Strings and Numbers as variables"
   ]
  },
  {
   "cell_type": "code",
   "execution_count": 21,
   "id": "db69924f",
   "metadata": {},
   "outputs": [],
   "source": [
    "number = 5\n",
    "text = \"your age is\""
   ]
  },
  {
   "cell_type": "markdown",
   "id": "d15bb5a4",
   "metadata": {},
   "source": [
    "#### When concatenating string type with int type, a problem arises"
   ]
  },
  {
   "cell_type": "code",
   "execution_count": 22,
   "id": "3a3d35f3",
   "metadata": {},
   "outputs": [
    {
     "ename": "TypeError",
     "evalue": "can only concatenate str (not \"int\") to str",
     "output_type": "error",
     "traceback": [
      "\u001b[1;31m---------------------------------------------------------------------------\u001b[0m",
      "\u001b[1;31mTypeError\u001b[0m                                 Traceback (most recent call last)",
      "Input \u001b[1;32mIn [22]\u001b[0m, in \u001b[0;36m<cell line: 1>\u001b[1;34m()\u001b[0m\n\u001b[1;32m----> 1\u001b[0m final_text \u001b[38;5;241m=\u001b[39m \u001b[43mtext\u001b[49m\u001b[43m \u001b[49m\u001b[38;5;241;43m+\u001b[39;49m\u001b[43m \u001b[49m\u001b[43mnumber\u001b[49m\n\u001b[0;32m      2\u001b[0m \u001b[38;5;28mprint\u001b[39m(final_text)\n",
      "\u001b[1;31mTypeError\u001b[0m: can only concatenate str (not \"int\") to str"
     ]
    }
   ],
   "source": [
    "final_text = text + number\n",
    "print(final_text)"
   ]
  },
  {
   "cell_type": "markdown",
   "id": "e2356058",
   "metadata": {},
   "source": [
    "#### This is how to fix this problem"
   ]
  },
  {
   "cell_type": "code",
   "execution_count": null,
   "id": "74a87255",
   "metadata": {},
   "outputs": [],
   "source": [
    "number = str(number)\n",
    "final_text = text + number\n",
    "print(final_text)"
   ]
  },
  {
   "cell_type": "markdown",
   "id": "06068f0f",
   "metadata": {},
   "source": [
    "#### Multiple-line Strings"
   ]
  },
  {
   "cell_type": "code",
   "execution_count": null,
   "id": "1c7aaaa9",
   "metadata": {},
   "outputs": [],
   "source": [
    "address = \"\"\"Tanmixay Village\n",
    "Xaythany District\n",
    "Vientiane Capital\n",
    "\"\"\""
   ]
  },
  {
   "cell_type": "code",
   "execution_count": null,
   "id": "34844e16",
   "metadata": {},
   "outputs": [],
   "source": [
    "print(address)"
   ]
  },
  {
   "cell_type": "markdown",
   "id": "3b946f2f",
   "metadata": {},
   "source": [
    "#### More on Strings in Python"
   ]
  },
  {
   "cell_type": "markdown",
   "id": "ba8fb9f4",
   "metadata": {},
   "source": [
    "<img src=\"images/strings.jpg\" />"
   ]
  },
  {
   "cell_type": "markdown",
   "id": "f4d7443f",
   "metadata": {},
   "source": [
    "<h2 style=\"font-family:Trebuchet MS;letter-spacing: 1px;color:#c71606;font-weight:bold\">Challenge</h2>"
   ]
  },
  {
   "cell_type": "markdown",
   "id": "6726c96a",
   "metadata": {},
   "source": [
    "#### (025) 1. Ask the user to enter their first name. If the length of their first name is under five characters, ask  them to enter their surname and join them  together (without a space) and display the name  in upper case. If the length of the first name is five or more characters, display their first name in lower case"
   ]
  },
  {
   "cell_type": "code",
   "execution_count": null,
   "id": "34c6d464",
   "metadata": {},
   "outputs": [],
   "source": [
    "first_name = input(\"Enter your first name: \")"
   ]
  },
  {
   "cell_type": "code",
   "execution_count": null,
   "id": "f2a9807e",
   "metadata": {},
   "outputs": [],
   "source": [
    "if len(first_name) < 5:\n",
    "    surname = input(\"Enter your surname: \")\n",
    "    full_name = first_name + surname\n",
    "    print(full_name.upper())\n",
    "else:\n",
    "    print(first_name.lower())"
   ]
  },
  {
   "cell_type": "markdown",
   "id": "9fd3818e",
   "metadata": {},
   "source": [
    "<h1  style=\"color:#292828;font-family:Trebuchet MS;font-size:4rem\">Maths</h1>"
   ]
  },
  {
   "cell_type": "markdown",
   "id": "badf50e6",
   "metadata": {},
   "source": [
    "<img src=\"images/maths.jpg\" />"
   ]
  },
  {
   "cell_type": "markdown",
   "id": "6e35362f",
   "metadata": {},
   "source": [
    "<h2 style=\"font-family:Trebuchet MS;letter-spacing: 1px;color:#c71606;font-weight:bold\">Challenge</h2>"
   ]
  },
  {
   "cell_type": "code",
   "execution_count": null,
   "id": "899c5db1",
   "metadata": {},
   "outputs": [],
   "source": [
    "import math"
   ]
  },
  {
   "cell_type": "markdown",
   "id": "cfdbeb1a",
   "metadata": {},
   "source": [
    "#### (030) 1. Display pi (π) to five decimal places. "
   ]
  },
  {
   "cell_type": "code",
   "execution_count": null,
   "id": "ba52e013",
   "metadata": {},
   "outputs": [],
   "source": [
    "print(round(math.pi, 5))"
   ]
  },
  {
   "cell_type": "markdown",
   "id": "71d7eea3",
   "metadata": {},
   "source": [
    "#### Display the following message: <br><br>1/ square <br>2/ triangle <br><br>If the user enters 1, then it should ask them for the length of one of its sides and display the area. <br>If they select 2, it should ask for the base and height of the triangle and display the area. If they type in anything else, it should give them a suitable error message. "
   ]
  },
  {
   "cell_type": "code",
   "execution_count": null,
   "id": "d063d1b9",
   "metadata": {},
   "outputs": [],
   "source": [
    "inital_message = \"\"\"1/ square \n",
    "2/ triangle\"\"\""
   ]
  },
  {
   "cell_type": "code",
   "execution_count": null,
   "id": "286ffe43",
   "metadata": {},
   "outputs": [],
   "source": [
    "print(inital_message)\n",
    "\n",
    "choice = input(\"Enter a number (1 or 2): \")\n",
    "\n",
    "if (choice != \"1\" and choice !=  \"2\"):\n",
    "    print(\"Error!!\")\n",
    "else:\n",
    "    if (choice == \"1\"):\n",
    "        length = float(input(\"Enter a side length: \"))\n",
    "        print(\"The area of the square is \", length*length)\n",
    "    else:\n",
    "        base = float(input(\"Enter a base: \"))\n",
    "        height = float(input(\"Enter a height: \"))\n",
    "        area = base*height/2\n",
    "        print(\"The are of the triangle is \", area)\n",
    "        \n",
    "        \n",
    "    "
   ]
  },
  {
   "cell_type": "markdown",
   "id": "4f90146b",
   "metadata": {},
   "source": [
    "<h1  style=\"color:#292828;font-family:Trebuchet MS;font-size:4rem\">For Loop</h1>"
   ]
  },
  {
   "cell_type": "markdown",
   "id": "32354eda",
   "metadata": {},
   "source": [
    "<img src=\"images/for_loops.jpg\" />"
   ]
  },
  {
   "cell_type": "markdown",
   "id": "faa89b45",
   "metadata": {},
   "source": [
    "<h2 style=\"font-family:Trebuchet MS;letter-spacing: 1px;color:#c71606;font-weight:bold\">Challenge</h2>"
   ]
  },
  {
   "cell_type": "markdown",
   "id": "973cd325",
   "metadata": {},
   "source": [
    "#### (042) 1. Set a variable called total to 0. Ask the user to enter five numbers and after each input ask them if they want that number included. If they do, then add the number to the total. If they do not want it included, don’t add it to the total. After they have entered all fivenumbers, display the total."
   ]
  },
  {
   "cell_type": "code",
   "execution_count": null,
   "id": "497a528f",
   "metadata": {},
   "outputs": [],
   "source": [
    "total = 0\n",
    "for i in range(5):\n",
    "    n = float(input(\"Enter a number: \"))\n",
    "    choice = input(\"Do you want to add this number to the sum (y or n) \")\n",
    "    if (choice == 'y'):\n",
    "        total += n\n",
    "print(\"The total is \", total)"
   ]
  },
  {
   "cell_type": "markdown",
   "id": "9935773e",
   "metadata": {},
   "source": [
    "<h1  style=\"color:#292828;font-family:Trebuchet MS;font-size:4rem\">While Loop</h1>"
   ]
  },
  {
   "cell_type": "markdown",
   "id": "d940804e",
   "metadata": {},
   "source": [
    "<img src=\"images/while_loop.jpg\" />"
   ]
  },
  {
   "cell_type": "markdown",
   "id": "7ee41281",
   "metadata": {},
   "source": [
    "<h2 style=\"font-family:Trebuchet MS;letter-spacing: 2px;color:#c71606;font-weight:bold\">Challenge</h2>"
   ]
  },
  {
   "cell_type": "markdown",
   "id": "7065a5d6",
   "metadata": {},
   "source": [
    "#### (048) Ask for the name of somebody the user wants to invite to a party. After this, display the message “[name] has now been invited” and add 1 to the count. Then ask if they want to invite somebody else. Keep repeating this until they no longer want to invite anyone else to the party and then display how many people they have coming to the party. "
   ]
  },
  {
   "cell_type": "code",
   "execution_count": null,
   "id": "bcd95395",
   "metadata": {},
   "outputs": [],
   "source": [
    "count = 0\n",
    "add = True\n",
    "choice = ''\n",
    "while add:\n",
    "    name = input(\"Type a person's name you want to invite: \")\n",
    "    print(f\"{name} has now been invited\")\n",
    "    count += 1\n",
    "    print(\"Do you want to continue inviting more people?\")\n",
    "    choice = input(\"y or n: \")\n",
    "    if choice != 'y':\n",
    "        break\n",
    "print(\"You have invited\", count, \"people.\")\n",
    "    "
   ]
  },
  {
   "cell_type": "markdown",
   "id": "9bb17ef4",
   "metadata": {},
   "source": [
    "<h1  style=\"color:#292828;font-family:Trebuchet MS;font-size:4rem\">Random</h1>"
   ]
  },
  {
   "cell_type": "markdown",
   "id": "e6a0515a",
   "metadata": {},
   "source": [
    "<img src=\"images/random.jpg\"/>"
   ]
  },
  {
   "cell_type": "code",
   "execution_count": 27,
   "id": "2334f4db",
   "metadata": {},
   "outputs": [],
   "source": [
    "import random"
   ]
  },
  {
   "cell_type": "code",
   "execution_count": 29,
   "id": "9782f655",
   "metadata": {},
   "outputs": [
    {
     "name": "stdout",
     "output_type": "stream",
     "text": [
      "0.42009802903997717\n"
     ]
    }
   ],
   "source": [
    "num = random.random()\n",
    "print(num)"
   ]
  },
  {
   "cell_type": "code",
   "execution_count": 31,
   "id": "1fa02cdd",
   "metadata": {},
   "outputs": [
    {
     "data": {
      "text/plain": [
       "347"
      ]
     },
     "execution_count": 31,
     "metadata": {},
     "output_type": "execute_result"
    }
   ],
   "source": [
    "random.randint(0, 500)"
   ]
  },
  {
   "cell_type": "code",
   "execution_count": 32,
   "id": "c561bd12",
   "metadata": {},
   "outputs": [
    {
     "data": {
      "text/plain": [
       "30"
      ]
     },
     "execution_count": 32,
     "metadata": {},
     "output_type": "execute_result"
    }
   ],
   "source": [
    "random.randrange(0, 100, 5)"
   ]
  },
  {
   "cell_type": "code",
   "execution_count": 33,
   "id": "14647b9a",
   "metadata": {},
   "outputs": [
    {
     "data": {
      "text/plain": [
       "'green'"
      ]
     },
     "execution_count": 33,
     "metadata": {},
     "output_type": "execute_result"
    }
   ],
   "source": [
    "random.choice([\"red\", \"black\", \"green\"])"
   ]
  },
  {
   "cell_type": "markdown",
   "id": "d8b990d1",
   "metadata": {},
   "source": [
    "<h2 style=\"font-family:Trebuchet MS;letter-spacing: 2px;color:#c71606;font-weight:bold\">Challenge</h2>"
   ]
  },
  {
   "cell_type": "markdown",
   "id": "7e6817a6",
   "metadata": {},
   "source": [
    "#### (058) Make a maths quiz that asks five questions by randomly generating two whole numbers to make the question (e.g. [num1] + [num2]). Ask the user to enter the answer. If they get it right add a point to their score. At the end of the quiz, tell them how many they got correct out of five. "
   ]
  },
  {
   "cell_type": "code",
   "execution_count": 37,
   "id": "bad795a8",
   "metadata": {},
   "outputs": [
    {
     "name": "stdout",
     "output_type": "stream",
     "text": [
      "There are five questions that you need to do\n",
      "\n",
      "Question 1\n",
      "4 + 3 = 7\n",
      "\n",
      "Question 2\n",
      "9 + 3 = 12\n",
      "\n",
      "Question 3\n",
      "8 + 4 = 12\n",
      "\n",
      "Question 4\n",
      "2 + 3 = 5\n",
      "\n",
      "Question 5\n",
      "10 + 2 = 12\n",
      "Your score is 5/5\n"
     ]
    }
   ],
   "source": [
    "import random\n",
    "\n",
    "score = 0\n",
    "print(\"There are five questions that you need to do\")\n",
    "for i in range(5):\n",
    "    num1 = random.randint(1, 10)\n",
    "    num2 = random.randint(1, 10)\n",
    "    \n",
    "    print(\"\\nQuestion\", i+1)\n",
    "    ans = int(input(f\"{num1} + {num2} = \"))\n",
    "    \n",
    "    if ans == num1 + num2:\n",
    "        score += 1\n",
    "        \n",
    "print(f\"Your score is {score}/5\")\n",
    "    "
   ]
  },
  {
   "cell_type": "markdown",
   "id": "884bf247",
   "metadata": {},
   "source": [
    "<h1  style=\"color:#292828;font-family:Trebuchet MS;font-size:4rem\">Turtle Graphics</h1>"
   ]
  },
  {
   "cell_type": "markdown",
   "id": "db717fee",
   "metadata": {},
   "source": [
    "<span style=\"font-weight:bold; font-family:Trebuchet MS;\">Note that:</span> The following codes use a different library presented in the book, and this library is designed particularly for Jupyter Notebook."
   ]
  },
  {
   "cell_type": "code",
   "execution_count": 4,
   "id": "ec62c4d4",
   "metadata": {},
   "outputs": [],
   "source": [
    "from ipyturtle import Turtle "
   ]
  },
  {
   "cell_type": "code",
   "execution_count": 60,
   "id": "f7380c3b",
   "metadata": {},
   "outputs": [],
   "source": [
    "t = Turtle(fixed=False, width=350, height=350)"
   ]
  },
  {
   "cell_type": "code",
   "execution_count": 61,
   "id": "10a16822",
   "metadata": {},
   "outputs": [
    {
     "data": {
      "application/vnd.jupyter.widget-view+json": {
       "model_id": "f05be45b5422487088dba606fd0cc1c5",
       "version_major": 2,
       "version_minor": 0
      },
      "text/plain": [
       "Turtle()"
      ]
     },
     "metadata": {},
     "output_type": "display_data"
    }
   ],
   "source": [
    "# screen to see the result\n",
    "t"
   ]
  },
  {
   "cell_type": "code",
   "execution_count": 62,
   "id": "96dfde91",
   "metadata": {},
   "outputs": [],
   "source": [
    "t.reset()\n",
    "for i in range(0,5):\n",
    "    t.right(72)\n",
    "    t.forward(60)\n",
    "    "
   ]
  },
  {
   "cell_type": "code",
   "execution_count": 66,
   "id": "c6bda665",
   "metadata": {},
   "outputs": [],
   "source": [
    "t.reset()\n",
    "t.pencolor(\"red\")\n",
    "for i in range(0,10):\n",
    "    t.right(36)\n",
    "    for i in range(0,5):\n",
    "        t.forward(100)\n",
    "        t.right(72)    "
   ]
  },
  {
   "cell_type": "markdown",
   "id": "b3146d49",
   "metadata": {},
   "source": [
    "<img src='images/turtle.jpg'/>"
   ]
  },
  {
   "cell_type": "markdown",
   "id": "c0869586",
   "metadata": {},
   "source": [
    "<h2 style=\"font-family:Trebuchet MS;letter-spacing: 2px;color:#c71606;font-weight:bold\">Challenge</h2>"
   ]
  },
  {
   "cell_type": "code",
   "execution_count": 2,
   "id": "00315703",
   "metadata": {},
   "outputs": [],
   "source": [
    "import turtle "
   ]
  },
  {
   "cell_type": "markdown",
   "id": "3b292513",
   "metadata": {},
   "source": [
    "#### (060) Draw a square"
   ]
  },
  {
   "cell_type": "code",
   "execution_count": 3,
   "id": "82dc1337",
   "metadata": {},
   "outputs": [],
   "source": [
    "for i in range(4):\n",
    "    turtle.forward(100)\n",
    "    turtle.right(90)\n",
    "turtle.done()"
   ]
  },
  {
   "cell_type": "markdown",
   "id": "e3370191",
   "metadata": {},
   "source": [
    "#### (061) Draw a traingle"
   ]
  },
  {
   "cell_type": "code",
   "execution_count": 5,
   "id": "33371778",
   "metadata": {},
   "outputs": [],
   "source": [
    "for i in range(3):\n",
    "    turtle.right(120)\n",
    "    turtle.forward(100)\n",
    "    \n",
    "turtle.done()"
   ]
  },
  {
   "cell_type": "markdown",
   "id": "078f902a",
   "metadata": {},
   "source": [
    "#### (062) Draw a circle."
   ]
  },
  {
   "cell_type": "code",
   "execution_count": 7,
   "id": "21a174c3",
   "metadata": {},
   "outputs": [],
   "source": [
    "turtle.circle(77)\n",
    "turtle.done()"
   ]
  },
  {
   "cell_type": "markdown",
   "id": "0350cc9b",
   "metadata": {},
   "source": [
    "#### (063) Draw three squares in a row with a gap between each. Fill them using three different colours."
   ]
  },
  {
   "cell_type": "code",
   "execution_count": 9,
   "id": "ae8c53c2",
   "metadata": {},
   "outputs": [],
   "source": [
    "colors = ['red', 'yellow', 'blue']\n",
    "for i in range(3):\n",
    "    turtle.color('black', colors[i])\n",
    "    turtle.begin_fill()\n",
    "    for i in range(4):\n",
    "        turtle.forward(100)\n",
    "        turtle.left(90)\n",
    "    turtle.end_fill()\n",
    "    turtle.penup()\n",
    "    turtle.forward(120)\n",
    "    turtle.pendown()\n",
    "    \n",
    "turtle.done()"
   ]
  },
  {
   "cell_type": "markdown",
   "id": "912fa990",
   "metadata": {},
   "source": [
    "#### (064) Draw a five-pointed star"
   ]
  },
  {
   "cell_type": "code",
   "execution_count": 11,
   "id": "059b1a8c",
   "metadata": {},
   "outputs": [],
   "source": [
    "for i in range(5):\n",
    "    turtle.forward(100)\n",
    "    turtle.right(144)\n",
    "turtle.done()"
   ]
  },
  {
   "cell_type": "markdown",
   "id": "64a59858",
   "metadata": {},
   "source": [
    "<h1  style=\"color:#292828;font-family:Trebuchet MS;font-size:4rem\"> Lists, Tuples, Dictionaries</h1>"
   ]
  },
  {
   "cell_type": "markdown",
   "id": "db97734f",
   "metadata": {},
   "source": [
    "<h1  style=\"color:#292828;font-family:Trebuchet MS;font-size:2.5rem\">Summary</h1>"
   ]
  },
  {
   "cell_type": "markdown",
   "id": "11e96370",
   "metadata": {},
   "source": [
    "<h1  style=\"color:#292828;font-family:Trebuchet MS;font-size:2rem\"> Lists</h1>"
   ]
  },
  {
   "cell_type": "markdown",
   "id": "3433e303",
   "metadata": {},
   "source": [
    "* The contents of a list can be changed while the program is running\n",
    "* The data in a list does not all have to be of the same data type (not recommended)"
   ]
  },
  {
   "cell_type": "markdown",
   "id": "6b70c06e",
   "metadata": {},
   "source": [
    "<h1  style=\"color:#292828;font-family:Trebuchet MS;font-size:2rem\"> Tuples</h1>"
   ]
  },
  {
   "cell_type": "markdown",
   "id": "7a07acc1",
   "metadata": {},
   "source": [
    "* Once a tuple is defined you cannot change what is stored in it\n",
    "* The data inside tuples cannot be altered while running a program\n",
    "* For example, Tuples are usually used for menu items that would not need to be changed"
   ]
  },
  {
   "cell_type": "markdown",
   "id": "ea82b99a",
   "metadata": {},
   "source": [
    "<h1  style=\"color:#292828;font-family:Trebuchet MS;font-size:2rem\"> Dictionaries</h1>"
   ]
  },
  {
   "cell_type": "markdown",
   "id": "61334515",
   "metadata": {},
   "source": [
    "* The contents of dictionaries can be changed while the programming is running\n",
    "* Each value is given <i>an index</i> or key you can define to help identify each piece of data\n",
    "* This index will not change if other rows of data are added or deleted"
   ]
  },
  {
   "cell_type": "code",
   "execution_count": 5,
   "id": "5e5353f5",
   "metadata": {},
   "outputs": [],
   "source": [
    "a = ('apple', 'banana', 'orange')\n",
    "b = ['apple', 'banana', 'orange']\n",
    "c = {'a':'apple', 'b':'banana', 'c':'orange'}"
   ]
  },
  {
   "cell_type": "code",
   "execution_count": 6,
   "id": "6d77f176",
   "metadata": {},
   "outputs": [
    {
     "name": "stdout",
     "output_type": "stream",
     "text": [
      "apple banana orange\n"
     ]
    }
   ],
   "source": [
    "print(a[0], b[1], c['c'])"
   ]
  },
  {
   "cell_type": "code",
   "execution_count": 37,
   "id": "e4519691",
   "metadata": {},
   "outputs": [],
   "source": [
    "names_list = ['phot', 'nut', 'noum']\n",
    "\n",
    "# to add data to the end of a list\n",
    "names_list.append('hello')\n",
    "\n",
    "# to add data into a specific position\n",
    "names_list.insert(2, 'john')\n",
    "\n",
    "#to get rid of the data in the final\n",
    "names_list.pop() # this return the removed item\n",
    "\n",
    "# to remove a specific item by specifying a specific index\n",
    "del names_list[2]\n",
    "\n",
    "# to remove a specific item without knowing its index\n",
    "names_list.remove('phot')"
   ]
  },
  {
   "cell_type": "code",
   "execution_count": 38,
   "id": "08fd9c5b",
   "metadata": {},
   "outputs": [
    {
     "data": {
      "text/plain": [
       "['nut', 'noum']"
      ]
     },
     "execution_count": 38,
     "metadata": {},
     "output_type": "execute_result"
    }
   ],
   "source": [
    "names_list"
   ]
  },
  {
   "cell_type": "code",
   "execution_count": 23,
   "id": "3c70e990",
   "metadata": {},
   "outputs": [
    {
     "data": {
      "text/plain": [
       "['noum', 'nut', 'phot']"
      ]
     },
     "execution_count": 23,
     "metadata": {},
     "output_type": "execute_result"
    }
   ],
   "source": [
    "#sorting\n",
    "names_list.sort()\n",
    "\n",
    "#alternatively\n",
    "sorted(names_list)\n"
   ]
  },
  {
   "cell_type": "markdown",
   "id": "54f99242",
   "metadata": {},
   "source": [
    "<span style=\"color:red;font-size:2rem; font-weight:bold\">Warning</span>"
   ]
  },
  {
   "cell_type": "markdown",
   "id": "6f676cbc",
   "metadata": {},
   "source": [
    "* sort(). is an in-place operation\n",
    "* sorted() just return a copy of a sorted list\n",
    "* remove() if there are many intances, only the first one will be removed\n",
    "* insert(index, item) if we insert an item into the last position of a list, the old item will be shifted to the next position, increasing  the length of the list"
   ]
  },
  {
   "cell_type": "markdown",
   "id": "e3c78b66",
   "metadata": {},
   "source": [
    "<h2 style=\"font-family:Trebuchet MS;letter-spacing: 2px;color:#c71606;font-weight:bold\">Challenge</h2>"
   ]
  },
  {
   "cell_type": "markdown",
   "id": "e6aa8c08",
   "metadata": {},
   "source": [
    "#### (069) Create a tuple containing the names of five countries and display the whole tuple. Ask the user to enter one of the countries that have been shown to them and then display the index number (i.e. position in the list) of that item in the tuple."
   ]
  },
  {
   "cell_type": "code",
   "execution_count": 10,
   "id": "1f4572a0",
   "metadata": {},
   "outputs": [
    {
     "name": "stdout",
     "output_type": "stream",
     "text": [
      "('Laos', 'Thailand', 'Vietnam')\n",
      "Enter a country: Laos\n",
      "An index of Laos is 0\n"
     ]
    }
   ],
   "source": [
    "my_tuple = ('Laos', 'Thailand', 'Vietnam')\n",
    "\n",
    "print(my_tuple)\n",
    "\n",
    "country = input(\"Enter a country: \")\n",
    "\n",
    "print(f\"An index of {country} is {my_tuple.index(country)}\")\n"
   ]
  },
  {
   "cell_type": "markdown",
   "id": "f5ba49d0",
   "metadata": {},
   "source": [
    "#### (073) Ask the user to enter four of their favourite foods and store them in a dictionary so that they are indexed with numbers starting from 1. Display the dictionary in full, showing the index number and the item. Ask them which they want to get rid of and remove it from the list. Sort the remaining data and display the dictionary."
   ]
  },
  {
   "cell_type": "code",
   "execution_count": 68,
   "id": "ad8fc042",
   "metadata": {},
   "outputs": [
    {
     "name": "stdout",
     "output_type": "stream",
     "text": [
      "You are required to enter 4 foods that you like\n",
      "1. jk\n",
      "2. fd\n",
      "3. adf\n",
      "4. cdf\n",
      "\n",
      "Your favourite foods are shown below\n",
      "\n",
      " {1: 'jk', 2: 'fd', 3: 'adf', 4: 'cdf'}\n",
      "By the way, Do you want to remove any menu from the list\n",
      "Please enter only y for yes or n for no: y\n",
      "please enter an index of the menu: 2\n",
      "\n",
      "This is a final list of your favourite foods\n"
     ]
    }
   ],
   "source": [
    "print(\"You are required to enter 4 foods that you like\")\n",
    "food = dict()\n",
    "for i in range(4):\n",
    "    food[i+1] = input(f\"{i+1}. \")\n",
    "    \n",
    "print(\"\\nYour favourite foods are shown below\\n\\n\", food)\n",
    "\n",
    "print(\"By the way, Do you want to remove any menu from the list\")\n",
    "\n",
    "if input(\"Please enter only y for yes or n for no: \") == 'y':\n",
    "    del food[int(input(\"please enter an index of the menu: \"))]\n",
    "    \n",
    "sorted_dict = {key:value for key, value \n",
    "               in sorted(food.items(), key=lambda item:item[1])}\n",
    "\n",
    "print(\"\\nThis is a final list of your favourite foods\")\n"
   ]
  },
  {
   "cell_type": "markdown",
   "id": "122d48d5",
   "metadata": {},
   "source": [
    "#### (076) Ask the user to enter the names of three people they want to invite to a party and store them in a list. After they have entered all three names, ask them if they want to add another. If they do, allow them to add more names until they answer “no”. When they answer “no”, display how many people they have invited to the party."
   ]
  },
  {
   "cell_type": "code",
   "execution_count": 86,
   "id": "66321499",
   "metadata": {},
   "outputs": [
    {
     "name": "stdout",
     "output_type": "stream",
     "text": [
      "Please enter 3 people'name you want to invite to a party\n",
      "1.Jenny\n",
      "2.Jane\n",
      "3.Looke\n",
      "Do you want to continue inviting more people?\n",
      "type yes or no: yes\n",
      "If you want to stop, just type no\n",
      "4.Leo\n",
      "5.Ammy\n",
      "6.Levi\n",
      "7.no\n",
      "You have invited 6\n"
     ]
    }
   ],
   "source": [
    "names = list()\n",
    "choice = ''\n",
    "i = 0\n",
    "\n",
    "print(\"Please enter 3 people'name you want to invite to a party\")\n",
    "\n",
    "while choice != 'no':\n",
    "        \n",
    "    names.append(input(f\"{i+1}.\"))\n",
    "    i+=1\n",
    "    \n",
    "    if i == 3:\n",
    "        print(\"Do you want to continue inviting more people?\")\n",
    "        choice = input(\"type yes or no: \")\n",
    "        \n",
    "        while choice not in ['yes', 'no']:\n",
    "            choice = input(\"Please only enter yes or no: \")\n",
    "        \n",
    "        if choice == 'no':\n",
    "            break\n",
    "        else:\n",
    "            print(\"If you want to stop, just type no\")\n",
    "            continue\n",
    "    if names[-1] == 'no': break\n",
    "            \n",
    "print(\"You have invited \" + str(len(names)-1))"
   ]
  },
  {
   "cell_type": "markdown",
   "id": "2a1d9dec",
   "metadata": {},
   "source": [
    "#### (077) Change program 076 so that once the user has completed their list of names, display the full list and ask them to type in one of the names on the list. Display the position of that name in the list. Ask the user if they still want that person to come to the party. If they answer “no”, delete that entry from the list and display the list again."
   ]
  },
  {
   "cell_type": "code",
   "execution_count": 92,
   "id": "2e4be175",
   "metadata": {},
   "outputs": [
    {
     "name": "stdout",
     "output_type": "stream",
     "text": [
      "This is a list of your guests' name\n",
      "['Jenny', 'Jane', 'Looke', 'Leo', 'Ammy', 'Levi']\n",
      "Please type anyone's name which is in the listAmmy\n",
      "Do you still want to invite 5.Ammy to the party?\n",
      "yes or no: no\n",
      "The remaining people are as follow\n",
      "['Jenny', 'Jane', 'Looke', 'Leo', 'Levi']\n"
     ]
    }
   ],
   "source": [
    "#names.remove('no')\n",
    "print(\"This is a list of your guests' name\")\n",
    "print(names)\n",
    "\n",
    "name = input(\"Please type anyone's name which is in the list\")\n",
    "\n",
    "print(f\"Do you still want to invite {names.index(name)+1}.{name} to the party?\")\n",
    "answer = input(\"yes or no: \")\n",
    "\n",
    "if answer == 'no':\n",
    "    names.remove(name)\n",
    "print(\"The remaining people are as follow\")\n",
    "print(names)"
   ]
  },
  {
   "cell_type": "markdown",
   "id": "1218a808",
   "metadata": {},
   "source": [
    "#### (079) Create an empty list called “nums”. Ask the user to enter numbers. After each number is entered, add it to the end of the nums list and display the list. Once they have entered three numbers, ask them if they still want the last number they entered saved. If they say “no”, remove the last item from the list. Display the list of numbers"
   ]
  },
  {
   "cell_type": "code",
   "execution_count": 3,
   "id": "1c899829",
   "metadata": {},
   "outputs": [
    {
     "name": "stdout",
     "output_type": "stream",
     "text": [
      "Please enter 3 numbers!\n",
      "Enter a number: 3\n",
      "Enter a number: 4\n",
      "Enter a number: 7\n",
      "Do you want to add the last number to the list? (y/n) y\n",
      "This is your final list of numbers [3, 4, 7]\n"
     ]
    }
   ],
   "source": [
    "nums = list()\n",
    "i = 1\n",
    "print(\"Please enter 3 numbers!\")\n",
    "\n",
    "for i in range(1, 4):\n",
    "    nums.append(int(input(\"Enter a number: \")))\n",
    "    if i == 3:\n",
    "        if input(\"Do you want to add the last number to the list? (y/n) \") == 'n':\n",
    "            nums.pop()\n",
    "print(\"This is your final list of numbers\", nums)"
   ]
  },
  {
   "cell_type": "markdown",
   "id": "a9eb4276",
   "metadata": {},
   "source": [
    "<h1  style=\"color:#292828;font-family:Trebuchet MS;font-size:4rem\"> More String Manipulation</h1>"
   ]
  },
  {
   "cell_type": "markdown",
   "id": "a2b36ffd",
   "metadata": {},
   "source": [
    "<img src=\"images/string-manipulation.jpg\"/>"
   ]
  },
  {
   "cell_type": "markdown",
   "id": "78419384",
   "metadata": {},
   "source": [
    "<h2 style=\"font-family:Trebuchet MS;letter-spacing: 2px;color:#c71606;font-weight:bold\">Challenge</h2>"
   ]
  },
  {
   "cell_type": "markdown",
   "id": "c2d0d791",
   "metadata": {},
   "source": [
    "#### (081) Ask the user to type in their favourite school subject. Display it with “-” after each letter, e.g. S-p-a-n-i-s-h-."
   ]
  },
  {
   "cell_type": "code",
   "execution_count": 6,
   "id": "e058cb8c",
   "metadata": {},
   "outputs": [
    {
     "name": "stdout",
     "output_type": "stream",
     "text": [
      "What is your favourite school subject?\n",
      "Enter a subject's name: Maths\n",
      "M-a-t-h-s-"
     ]
    }
   ],
   "source": [
    "print(\"What is your favourite school subject?\")\n",
    "subject = input(\"Enter a subject's name: \")\n",
    "for letter in subject:\n",
    "    print(letter, end=\"-\")"
   ]
  },
  {
   "cell_type": "markdown",
   "id": "a9a4ac6d",
   "metadata": {},
   "source": [
    "#### (083) Ask the user to type in a word in upper case. If they type it in lower case, ask them to try again. Keep repeating this until they type in a message all in uppercase."
   ]
  },
  {
   "cell_type": "code",
   "execution_count": 14,
   "id": "944135f2",
   "metadata": {},
   "outputs": [
    {
     "name": "stdout",
     "output_type": "stream",
     "text": [
      "Please type a word in upper case\n",
      "Enter a word: fj\n",
      "\n",
      "Please try again!\n",
      "Enter a word: ABC\n"
     ]
    }
   ],
   "source": [
    "is_upper = False\n",
    "print(\"Please type a word in upper case\")\n",
    "while not is_upper:\n",
    "    \n",
    "    word = input(\"Enter a word: \")\n",
    "    is_upper = word.isupper()\n",
    "    if not is_upper:\n",
    "        print(\"\\nPlease try again!\")"
   ]
  },
  {
   "cell_type": "markdown",
   "id": "94cb2828",
   "metadata": {},
   "source": [
    "#### (085) Ask the user to type in their name and then tell them how many vowels are in their name."
   ]
  },
  {
   "cell_type": "code",
   "execution_count": 22,
   "id": "c4d0552c",
   "metadata": {},
   "outputs": [
    {
     "name": "stdout",
     "output_type": "stream",
     "text": [
      "Please type your full name\n",
      "Input: Souphaxay Naovalath\n",
      "There are 8 vowels in your full name\n"
     ]
    }
   ],
   "source": [
    "vowels = [x for x in 'aeiou']\n",
    "count = 0\n",
    "\n",
    "print(\"Please type your full name\")\n",
    "full_name = input(\"Input: \")\n",
    "\n",
    "for letter in full_name:\n",
    "    if letter.lower() in vowels:\n",
    "        count += 1\n",
    "\n",
    "print(f\"There are {count} vowels in your full name\")\n",
    "\n"
   ]
  },
  {
   "cell_type": "markdown",
   "id": "4f06215b",
   "metadata": {},
   "source": [
    "#### (087) Ask the user to type in a word and then display it backwards on separate lines."
   ]
  },
  {
   "cell_type": "code",
   "execution_count": 23,
   "id": "86f4b6b1",
   "metadata": {},
   "outputs": [
    {
     "name": "stdout",
     "output_type": "stream",
     "text": [
      "please enter a word: hello\n",
      "o\n",
      "l\n",
      "l\n",
      "e\n",
      "h\n"
     ]
    }
   ],
   "source": [
    "word = input(\"please enter a word: \")\n",
    "for letter in word[::-1]:\n",
    "    print(letter)"
   ]
  },
  {
   "cell_type": "markdown",
   "id": "9f9382b9",
   "metadata": {},
   "source": [
    "<h1  style=\"color:#292828;font-family:Trebuchet MS;font-size:4rem\">Numeric Arrays</h1>"
   ]
  },
  {
   "cell_type": "markdown",
   "id": "b1f2cf49",
   "metadata": {},
   "source": [
    "<h1  style=\"color:#292828;font-family:Trebuchet MS;font-size:2.25rem\">Array vs List in Python</h1>"
   ]
  },
  {
   "cell_type": "markdown",
   "id": "bd50f065",
   "metadata": {},
   "source": [
    "* Python arrays are similar to lists, but they are only used to store numbers\n",
    "* Python lists can store various kinds of data types"
   ]
  },
  {
   "cell_type": "markdown",
   "id": "800276ea",
   "metadata": {},
   "source": [
    "<img src='images/numeric-array.jpg'/>"
   ]
  },
  {
   "cell_type": "code",
   "execution_count": 28,
   "id": "169c2d05",
   "metadata": {},
   "outputs": [],
   "source": [
    "from array import *\n",
    "\n",
    "nums = array('i', [1, 3, 5, 7, 9])"
   ]
  },
  {
   "cell_type": "code",
   "execution_count": 29,
   "id": "ea58815b",
   "metadata": {},
   "outputs": [
    {
     "data": {
      "text/plain": [
       "array('i', [1, 3, 5, 7, 9])"
      ]
     },
     "execution_count": 29,
     "metadata": {},
     "output_type": "execute_result"
    }
   ],
   "source": [
    "nums"
   ]
  },
  {
   "cell_type": "code",
   "execution_count": 30,
   "id": "815a61c0",
   "metadata": {},
   "outputs": [
    {
     "name": "stdout",
     "output_type": "stream",
     "text": [
      "How many integers do you want to add to the array: 5\n",
      "1 : 3\n",
      "2 : 4\n",
      "3 : 6\n",
      "4 : 8\n",
      "5 : 9\n"
     ]
    }
   ],
   "source": [
    "#example\n",
    "\n",
    "new_array = array('i', [])\n",
    "\n",
    "length = int(input(\"How many integers do you want to add to the array: \"))\n",
    "\n",
    "for i in range(length):\n",
    "    new_array.append(int(input(f'{i+1} : ')))\n",
    "    \n",
    "nums.extend(new_array)"
   ]
  },
  {
   "cell_type": "code",
   "execution_count": 31,
   "id": "6899c83c",
   "metadata": {},
   "outputs": [
    {
     "data": {
      "text/plain": [
       "array('i', [1, 3, 5, 7, 9, 3, 4, 6, 8, 9])"
      ]
     },
     "execution_count": 31,
     "metadata": {},
     "output_type": "execute_result"
    }
   ],
   "source": [
    "nums"
   ]
  },
  {
   "cell_type": "markdown",
   "id": "0012338e",
   "metadata": {},
   "source": [
    "<h2 style=\"font-family:Trebuchet MS;letter-spacing: 2px;color:#c71606;font-weight:bold\">Challenge</h2>"
   ]
  },
  {
   "cell_type": "code",
   "execution_count": null,
   "id": "cc573f34",
   "metadata": {},
   "outputs": [],
   "source": []
  },
  {
   "cell_type": "code",
   "execution_count": null,
   "id": "56a7c90a",
   "metadata": {},
   "outputs": [],
   "source": []
  },
  {
   "cell_type": "code",
   "execution_count": null,
   "id": "bd9fdecb",
   "metadata": {},
   "outputs": [],
   "source": []
  },
  {
   "cell_type": "code",
   "execution_count": null,
   "id": "e1546a5b",
   "metadata": {},
   "outputs": [],
   "source": []
  },
  {
   "cell_type": "code",
   "execution_count": null,
   "id": "d8cffea4",
   "metadata": {},
   "outputs": [],
   "source": []
  },
  {
   "cell_type": "code",
   "execution_count": null,
   "id": "dec21d43",
   "metadata": {},
   "outputs": [],
   "source": []
  },
  {
   "cell_type": "code",
   "execution_count": null,
   "id": "13902c72",
   "metadata": {},
   "outputs": [],
   "source": []
  },
  {
   "cell_type": "code",
   "execution_count": null,
   "id": "6f476a94",
   "metadata": {},
   "outputs": [],
   "source": []
  },
  {
   "cell_type": "code",
   "execution_count": null,
   "id": "6091b5b8",
   "metadata": {},
   "outputs": [],
   "source": []
  },
  {
   "cell_type": "code",
   "execution_count": null,
   "id": "f145e48a",
   "metadata": {},
   "outputs": [],
   "source": []
  },
  {
   "cell_type": "code",
   "execution_count": null,
   "id": "83351d7f",
   "metadata": {},
   "outputs": [],
   "source": []
  },
  {
   "cell_type": "code",
   "execution_count": null,
   "id": "5f109e4b",
   "metadata": {},
   "outputs": [],
   "source": []
  },
  {
   "cell_type": "code",
   "execution_count": null,
   "id": "24f4af9a",
   "metadata": {},
   "outputs": [],
   "source": []
  },
  {
   "cell_type": "code",
   "execution_count": null,
   "id": "f8a8195c",
   "metadata": {},
   "outputs": [],
   "source": []
  },
  {
   "cell_type": "code",
   "execution_count": null,
   "id": "550cc689",
   "metadata": {},
   "outputs": [],
   "source": []
  }
 ],
 "metadata": {
  "kernelspec": {
   "display_name": "Python 3 (ipykernel)",
   "language": "python",
   "name": "python3"
  },
  "language_info": {
   "codemirror_mode": {
    "name": "ipython",
    "version": 3
   },
   "file_extension": ".py",
   "mimetype": "text/x-python",
   "name": "python",
   "nbconvert_exporter": "python",
   "pygments_lexer": "ipython3",
   "version": "3.9.12"
  }
 },
 "nbformat": 4,
 "nbformat_minor": 5
}
